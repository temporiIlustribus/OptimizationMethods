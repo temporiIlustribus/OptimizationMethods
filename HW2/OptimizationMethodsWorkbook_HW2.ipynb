{
  "nbformat": 4,
  "nbformat_minor": 0,
  "metadata": {
    "colab": {
      "name": "OptimizationMethodsWorkbook.ipynb",
      "provenance": [],
      "collapsed_sections": []
    },
    "kernelspec": {
      "name": "python3",
      "display_name": "Python 3"
    }
  },
  "cells": [
    {
      "cell_type": "markdown",
      "metadata": {
        "id": "imWJTkyJbhPG"
      },
      "source": [
        "# Домашнее задание 2\n",
        "\n",
        "\n",
        "---\n",
        "\n"
      ]
    },
    {
      "cell_type": "code",
      "metadata": {
        "id": "bAvL4lpEKmFr"
      },
      "source": [
        "import numpy as np"
      ],
      "execution_count": null,
      "outputs": []
    },
    {
      "cell_type": "markdown",
      "metadata": {
        "id": "hgrngJaWIHFu"
      },
      "source": [
        "Простая ф-ция для проверки решения на примерах указанных в задании"
      ]
    },
    {
      "cell_type": "code",
      "metadata": {
        "id": "nbuqTYAnM7iv"
      },
      "source": [
        "def run_test(method, test):\n",
        "  test_input, ans = test\n",
        "  t_type, a, b, eps1, eps2, x_0, x_1 = test_input\n",
        "  f, df = (f1, [df1_1, df1_2]) if t_type == 0 else (f2, [df2_1, df2_2])\n",
        "  x = [x_0, x_1]\n",
        "  res = method(f, df,a,b,x,10000,0.5, eps1, eps2)\n",
        "  print('CALCULATED RES:', res)\n",
        "  assert(abs(res - ans) < 0.1)\n",
        "  print('TEST PASSED!')"
      ],
      "execution_count": null,
      "outputs": []
    },
    {
      "cell_type": "code",
      "metadata": {
        "id": "hWH3AYkyIhjc"
      },
      "source": [
        "def run_test_H(method, test):\n",
        "  test_input, ans = test\n",
        "  a, b, eps1, eps2, x_0, x_1 = test_input\n",
        "  df = [df_1,df_2]\n",
        "  H = [[df_1_1,df_1_2],[df_2_1,df_2_2]]\n",
        "  x = [x_0, x_1]\n",
        "  res = method(f, df, H, a, b, x, 10000, 0.5, eps1, eps2)\n",
        "  print('CALCULATED RES:', res)\n",
        "  assert(abs(res - ans) < 0.1)\n",
        "  print('TEST PASSED!')"
      ],
      "execution_count": null,
      "outputs": []
    },
    {
      "cell_type": "code",
      "metadata": {
        "id": "HkEBKR7U3u09"
      },
      "source": [
        "def fib_search(f, bounds, tol, coef, max_eps = 0.01):\n",
        "    n = 0\n",
        "    fibN = 1\n",
        "    fibNm1 = 0\n",
        "    fibNm2 = 0\n",
        "    l = min(bounds)\n",
        "    r = max(bounds)\n",
        "    interv_l = (r - l) / tol\n",
        "    while fibN < interv_l:\n",
        "      fibNm2 = fibNm1\n",
        "      fibNm1 = fibN\n",
        "      fibN = fibNm1 + fibNm2\n",
        "      n += 1\n",
        "    p1 = l + fibNm2/fibN * (r - l)\n",
        "    p2 = l + fibNm1/fibN * (r - l)\n",
        "    fp1 = f(p1, *coef)\n",
        "    fp2 = f(p2, *coef)\n",
        "    for k in range(1, n-1):\n",
        "      fibN = fibNm1\n",
        "      fibNm1 = fibNm2\n",
        "      fibNm2 = fibN - fibNm1\n",
        "      if (fp1 > fp2):\n",
        "        l = p1\n",
        "        p1 = p2\n",
        "        p2 = l + (fibNm1/fibN) * (r - l)\n",
        "        fp1 = fp2\n",
        "        fp2 = f(p2, *coef) \n",
        "      else:\n",
        "        r = p2\n",
        "        p2 = p1\n",
        "        p1 = l + (fibNm2/fibN) * (r - l)\n",
        "        fp2 = fp1\n",
        "        fp1 = f(p1, *coef)\n",
        "    p2 = l + (1/2 - max_eps) * (r - l)\n",
        "    if fp1 >= f(p2, *coef):\n",
        "      r = p1\n",
        "    elif fp1 < f(p2, *coef):\n",
        "      l = p2\n",
        "    return (r+l)/2"
      ],
      "execution_count": null,
      "outputs": []
    },
    {
      "cell_type": "markdown",
      "metadata": {
        "id": "dX2T97W-bpNX"
      },
      "source": [
        "# A. Метод покоординатного спуска\n",
        "\n",
        "\n",
        "\n",
        "---\n",
        "\n",
        "\n",
        "\n",
        "В данной задаче Вам необходимо реализовать метод Покоординатного спуска для функций двух типов:\n",
        "\n",
        "$f_0(x) = a \\sin(x_0) + b \\cos(x_1)$\n",
        "\n",
        "$f_1(x) = (x_0 - a)^2 - x_0 x_1 + (x_1 - b)^2$\n",
        "\n",
        "\\\n",
        "\n",
        "Максимальная длина шага - 0.5\n",
        "\n",
        "Критерии остановки:\n",
        "  * Длина градиента в точке меньше $\\epsilon_1$\n",
        "\n",
        "  * Количество итераций меньше 10000 (гарантируется)\n",
        "\n",
        "  * Две итерации подряд $||x^{k+1} - x^{k}|| < \\epsilon_2$ и $||f(x^{k+1}) - f(x^{k})|| < \\epsilon_2$ \n",
        "\n",
        "  \n",
        "Можете воспользоваться [шаблоном](https://gist.github.com/evkonovalov/04d212db54ddbfef650f796d8965c1f4).\n",
        "\n",
        "\\\n",
        "\n",
        "**Формат ввода:**\n",
        "\n",
        "$t$ - тип функции (0 или 1)\n",
        "\n",
        "$a, b$ - коэффициенты\n",
        "\n",
        "$\\epsilon_1, \\epsilon_2$ - критерии остановки\n",
        "\n",
        "$x_0, x_1$ - координаты начальной точки\n",
        "\n",
        "\\\n",
        "\n",
        "**Формат вывода:**\n",
        "\n",
        "Значение целевой функции в точке. Проверяется до первого знака после запятой."
      ]
    },
    {
      "cell_type": "code",
      "metadata": {
        "id": "b3geT4hWbWA_"
      },
      "source": [
        "import numpy as np\n",
        "\n",
        "def f1(x,a,b):\n",
        "    return a*np.math.sin(x[0]) + b*np.math.cos(x[1])\n",
        "\n",
        "def f2(x,a,b):\n",
        "    return (x[0] - a)**2 + x[0]*x[1] + (x[1] - b)**2\n",
        "\n",
        "def df1_1(x,a,b):\n",
        "    return a*np.math.cos(x[0])\n",
        "\n",
        "def df1_2(x,a,b):\n",
        "    return -b*np.math.sin(x[1])\n",
        "\n",
        "def df2_1(x,a,b):\n",
        "    return -2*a+2*x[0]+x[1]\n",
        "\n",
        "def df2_2(x,a,b):\n",
        "    return -2*b+x[0]+2*x[1]\n",
        "\n",
        "def coordinate_descent(f, df, a,b,x00, M, t0, eps1, eps2):\n",
        "  eps = 0.5\n",
        "  def eps2_check(x_j0, x_j1, f_vals=None):\n",
        "    if not f_vals:\n",
        "      f_vals = [f(x_j0, a, b), f(x_j1, a, b)]\n",
        "    return (np.linalg.norm(x_j1 - x_j0) < eps2 and np.linalg.norm(f_vals[1] - f_vals[0]) < eps2)\n",
        "  \n",
        "  def coord_step(x_prev, coord, t_i):\n",
        "    grad = np.array([df[0](x_prev, a, b), df[1](x_prev, a, b)])\n",
        "    x_new = x_prev - t_i * grad * coord\n",
        "    f_value = f(x_new, a, b)\n",
        "    dif = f_value - f_prev\n",
        "    if (dif >= 0) and (dif >= -eps * np.linalg.norm(grad)):\n",
        "      t_i /= 2\n",
        "      return False, t_i, x_new, f_value\n",
        "    return True, t_i, x_new, f_value\n",
        "\n",
        "  x_prev = x00\n",
        "  f_prev = f(x_prev, a, b)\n",
        "  t = np.array([t0, t0])\n",
        "  e = np.eye(2)\n",
        "  prev_step_flag = False\n",
        "  f_k, x_k = 0, 0\n",
        "  j = 0\n",
        "  while True:\n",
        "    cond, t[j % 2], x_k, f_k = coord_step(x_prev, e[j % 2], t[j % 2])\n",
        "    flag = eps2_check(x_prev, x_k, [f_prev, f_k])\n",
        "    if (flag and prev_step_flag) or (j >= 2 * M):\n",
        "      return min(f_k, f_prev)\n",
        "    prev_step_flag = flag\n",
        "    if (not cond):\n",
        "      continue\n",
        "    x_prev = x_k\n",
        "    f_prev = f_k\n",
        "    j += 1\n",
        "  return min(f_k, f_prev)"
      ],
      "execution_count": null,
      "outputs": []
    },
    {
      "cell_type": "code",
      "metadata": {
        "id": "3C2EwxE-OOFx"
      },
      "source": [
        "type = int(input())\n",
        "a,b = map(float,input().split(\" \"))\n",
        "if type == 0:\n",
        "    f = f1\n",
        "    df = [df1_1,df1_2]\n",
        "else:\n",
        "    f = f2\n",
        "    df = [df2_1,df2_2]\n",
        "eps1,eps2 = map(float,input().split(\" \"))\n",
        "x1,x2 = map(float,input().split(\" \"))\n",
        "x = [x1,x2]\n",
        "print(coordinate_descent(f,df,a,b,x,10000,0.5,eps1,eps2))"
      ],
      "execution_count": null,
      "outputs": []
    },
    {
      "cell_type": "code",
      "metadata": {
        "id": "xesU0jh2M1hI"
      },
      "source": [
        "test1 = [(0, -2, -2, 0.0001, 0.0006, 0.7, 0.9), -4.0]\n",
        "test2 = [(1, 2, 1,0.001, 0.0001, 0.8, 0.1), 1.000000114440918]"
      ],
      "execution_count": null,
      "outputs": []
    },
    {
      "cell_type": "code",
      "metadata": {
        "colab": {
          "base_uri": "https://localhost:8080/"
        },
        "id": "PFv8ehY9OJQf",
        "outputId": "aad20de3-e23e-4aa3-b5b0-6e71c1259db6"
      },
      "source": [
        "run_test(coordinate_descent, test1)\n",
        "run_test(coordinate_descent, test2)"
      ],
      "execution_count": null,
      "outputs": [
        {
          "output_type": "stream",
          "text": [
            "CALCULATED RES: -4.0\n",
            "TEST PASSED!\n",
            "CALCULATED RES: 1.0000000004470349\n",
            "TEST PASSED!\n"
          ],
          "name": "stdout"
        }
      ]
    },
    {
      "cell_type": "markdown",
      "metadata": {
        "id": "Dp44025P6PHb"
      },
      "source": [
        "# B. Метод сопряжённых градиентов\n",
        "\n",
        "\n",
        "---\n",
        "\n",
        "\\\n",
        "\n",
        "В данной задаче Вам необходимо реализовать метод сопряженных градиентов для функций двух типов:\n",
        "\n",
        "$f_0(x) = (x_0 - a)^2 + x_1^2 + \\frac{x_0}{|x_1| + b}$\n",
        "\n",
        "$f_1(x) = (x_0 - a)^2 + x_0x_1 + (|x_1| + b)^2$\n",
        "\n",
        "\\\n",
        "\n",
        "Максимальная длина шага - 0.5. \n",
        "В тестовом решении, для поиска оптимального длины шага, использовался поиск Фибоначчи. Вы можете использовать другие методы.\n",
        "Критерии остановки:\n",
        "  * Длина градиента в точке меньше $\\epsilon_1$\n",
        "\n",
        "  * Количество итераций меньше 10000 (гарантируется)\n",
        "\n",
        "  * Две итерации подряд $||x^{k+1} - x^{k}|| < \\epsilon_2$ и $||f(x^{k+1}) - f(x^{k})|| < \\epsilon_2$ \n",
        "\n",
        "Можете воспользоваться [шаблоном](https://gist.github.com/evkonovalov/b643fc8a5cbf28c812e408c0bebe0739)\n",
        "\n",
        "\\\n",
        "\n",
        "**Формат ввода:**\n",
        "\n",
        "$t$ - тип функции (0 или 1)\n",
        "\n",
        "$a, b$ - коэффициенты\n",
        "\n",
        "$\\epsilon_1, \\epsilon_2$ - критерии остановки\n",
        "\n",
        "$x_0, x_1$ - координаты начальной точки\n",
        "\n",
        "\\\n",
        "\n",
        "**Формат вывода:**\n",
        "\n",
        "Значение целевой функции в точке. Проверяется до первого знака после запятой."
      ]
    },
    {
      "cell_type": "code",
      "metadata": {
        "id": "zZjojxx86OLN"
      },
      "source": [
        "import numpy as np\n",
        "\n",
        "def f1(x,a,b):\n",
        "    return (x[0]-a)**2 + x[1]**2 + x[0]/(np.math.fabs(x[1])+b)\n",
        "\n",
        "def f2(x,a,b):\n",
        "    return (x[0] - a)**2 + x[0]*x[1] + (x[1] - b)**2\n",
        "\n",
        "def df1_1(x,a,b):\n",
        "    return -2*a+1/(np.math.fabs(x[1])+b)+2*x[0]\n",
        "\n",
        "def df1_2(x,a,b):\n",
        "    return 2*x[1]-(x[0]*x[1])/(np.math.fabs(x[1])*(np.math.fabs(x[1])+b)**2)\n",
        "\n",
        "def df2_1(x,a,b):\n",
        "    return -2*a+2*x[0]+x[1]\n",
        "\n",
        "def df2_2(x,a,b):\n",
        "    return -2*b+x[0]+2*x[1]\n",
        "\n",
        "def fletcher_reeves(f, df, a, b, x0, M, t0, eps1, eps2):\n",
        "    def get_grad(x_k):\n",
        "        return np.array([df[0](x_k, a, b), df[1](x_k, a, b)])\n",
        "      \n",
        "    def calc_beta(grad_xk, grad_prev):\n",
        "        return np.linalg.norm(grad_xk)/np.linalg.norm(grad_prev) if grad_prev is not None else 0\n",
        "    \n",
        "    def calc_dk(grad_xk, beta, d_prev=None):\n",
        "        return -grad_xk + beta * d_prev if (d_prev is not None) else -grad_xk\n",
        "\n",
        "    def calc_tk(x_k, d_k):\n",
        "        def f_wrapped(t, x_k, d_k, a, b):\n",
        "          return f(x_k + t * d_k, a ,b)\n",
        "        return fib_search(f_wrapped, bounds=[0, 0.5], tol=0.001, coef=[x_k, d_k, a, b])\n",
        "    \n",
        "    def eps2_check(x_j0, x_j1, f_vals=None):\n",
        "        if not f_vals:\n",
        "          f_vals = [f(x_j0, a, b), f(x_j1, a, b)]\n",
        "        return (np.linalg.norm(x_j1 - x_j0) < eps2 and np.linalg.norm(f_vals[1] - f_vals[0]) < eps2)\n",
        "    \n",
        "    i = 0\n",
        "    x_prev = x0\n",
        "    t = t0\n",
        "    d_prev = None\n",
        "    grad_prev = None\n",
        "    prev_flag = False\n",
        "    beta = 0\n",
        "    while (i < M):\n",
        "      grad = get_grad(x_prev)\n",
        "      if (np.linalg.norm(grad) < eps1):\n",
        "        return f(x_prev, a, b)\n",
        "      beta = calc_beta(grad, grad_prev)\n",
        "      d = calc_dk(grad, beta, d_prev)\n",
        "      t = calc_tk(x_prev, d)\n",
        "      x_new = x_prev + t * d\n",
        "      flag = eps2_check(x_prev, x_new)\n",
        "      if (flag and prev_flag):\n",
        "        return f(x_new, a, b)\n",
        "      prev_flag = flag\n",
        "      x_prev = x_new\n",
        "      grad_prev = grad\n",
        "      d_prev = d\n",
        "      i += 1\n",
        "    return f(x_prev, a, b)\n"
      ],
      "execution_count": null,
      "outputs": []
    },
    {
      "cell_type": "code",
      "metadata": {
        "id": "KxiVdOfxcN-e"
      },
      "source": [
        "type = int(input())\n",
        "a,b = map(float,input().split(\" \"))\n",
        "if type == 0:\n",
        "    f = f1\n",
        "    df = [df1_1,df1_2]\n",
        "else:\n",
        "    f = f2\n",
        "    df = [df2_1,df2_2]\n",
        "eps1,eps2 = map(float,input().split(\" \"))\n",
        "x1,x2 = map(float,input().split(\" \"))\n",
        "x = [x1,x2]\n",
        "print(fletcher_reeves(f,df,a,b,x,10000,0.5,eps1,eps2))"
      ],
      "execution_count": null,
      "outputs": []
    },
    {
      "cell_type": "code",
      "metadata": {
        "id": "D-0mLlDlcQ60"
      },
      "source": [
        "test1 = [(1, -2, 2, 0.0005, 0.0006, 0.8, 0.6), -7.999999981373431]\n",
        "test2 = [(1, 1, 2, 0.0008, 0.0004, 0.0, -0.6), 1.0000000617930729]"
      ],
      "execution_count": null,
      "outputs": []
    },
    {
      "cell_type": "code",
      "metadata": {
        "colab": {
          "base_uri": "https://localhost:8080/"
        },
        "id": "wQvcMk1kxGIx",
        "outputId": "e08573f0-dcf4-4d46-dd8c-568d4b570dfa"
      },
      "source": [
        "run_test(fletcher_reeves, test1)\n",
        "run_test(fletcher_reeves, test2)"
      ],
      "execution_count": null,
      "outputs": [
        {
          "output_type": "stream",
          "text": [
            "CALCULATED RES: -7.9989217442702865\n",
            "TEST PASSED!\n",
            "CALCULATED RES: 1.0004815475315354\n",
            "TEST PASSED!\n"
          ],
          "name": "stdout"
        }
      ]
    },
    {
      "cell_type": "markdown",
      "metadata": {
        "id": "ujpYeODRWIfR"
      },
      "source": [
        "# C. Метод Ньютона\n",
        "\n",
        "\n",
        "---\n",
        "\n",
        "\n",
        "\\\n",
        "\n",
        "В данной задаче Вам необходимо реализовать метод Ньютона для функции:\n",
        "\n",
        "$f(x) = (x_0 - x_1^2)^2 + (a-x_0)^2 + b$\n",
        "\n",
        "\\\n",
        "\n",
        "Максимальная длина шага - 0.5.\n",
        "\n",
        "В тестовом решении, для поиска оптимального длины шага, использовался поиск Фибоначчи. Вы можете использовать другие методы.\n",
        "\n",
        "Критерии остановки:\n",
        "  * Длина градиента в точке меньше $\\epsilon_1$\n",
        "\n",
        "  * Количество итераций меньше 10000 (гарантируется)\n",
        "\n",
        "  * Две итерации подряд $||x^{k+1} - x^{k}|| < \\epsilon_2$ и $||f(x^{k+1}) - f(x^{k})|| < \\epsilon_2$ \n",
        "\n",
        "\\\n",
        "\n",
        "Можете воспользоваться [шаблоном](https://gist.github.com/evkonovalov/dcd7bea83196ae0ef40195fed284849e)\n",
        "\n",
        "$a, b$ - коэффициенты\n",
        "\n",
        "$\\epsilon_1, \\epsilon_2$ - критерии остановки\n",
        "\n",
        "$x_0, x_1$ - координаты начальной точки\n",
        "\n",
        "\\\n",
        "\n",
        "**Формат вывода:**\n",
        "\n",
        "Значение целевой функции в точке. Проверяется до первого знака после запятой."
      ]
    },
    {
      "cell_type": "code",
      "metadata": {
        "id": "BCFsZOk64v2k"
      },
      "source": [
        "import numpy as np\n",
        "\n",
        "def f(x,a,b):\n",
        "    return (x[0]-x[1]**2)**2 + (a-x[0])**2 + b\n",
        "\n",
        "def df_1(x,a,b):\n",
        "    return -2*(a-2*x[0]+x[1]**2)\n",
        "\n",
        "def df_2(x,a,b):\n",
        "    return -4*x[1]*(x[0]-x[1]**2)\n",
        "\n",
        "def df_1_1(x,a,b):\n",
        "    return 4\n",
        "\n",
        "def df_1_2(x,a,b):\n",
        "    return -4*x[1]\n",
        "\n",
        "def df_2_2(x,a,b):\n",
        "    return -4*(x[0]-3*x[1]**2)\n",
        "\n",
        "def df_2_1(x,a,b):\n",
        "    return -4*x[1]\n",
        "\n",
        "def is_pos_def(x):\n",
        "    return np.all(np.linalg.eigvals(x) > 0)\n",
        "\n",
        "def ft(t,dk,x,f,a,b):\n",
        "    x += t * dk\n",
        "    return f(x,a,b)\n",
        "\n",
        "\n",
        "def fib_search(f, bounds, tol, coef, max_eps = 0.01):\n",
        "    n = 0\n",
        "    fibN = 1\n",
        "    fibNm1 = 0\n",
        "    fibNm2 = 0\n",
        "    l = min(bounds)\n",
        "    r = max(bounds)\n",
        "    interv_l = (r - l) / tol\n",
        "    while fibN < interv_l:\n",
        "      fibNm2 = fibNm1\n",
        "      fibNm1 = fibN\n",
        "      fibN = fibNm1 + fibNm2\n",
        "      n += 1\n",
        "    p1 = l + fibNm2/fibN * (r - l)\n",
        "    p2 = l + fibNm1/fibN * (r - l)\n",
        "    fp1 = f(p1, *coef)\n",
        "    fp2 = f(p2, *coef)\n",
        "    for k in range(1, n-1):\n",
        "      fibN = fibNm1\n",
        "      fibNm1 = fibNm2\n",
        "      fibNm2 = fibN - fibNm1\n",
        "      if (fp1 > fp2):\n",
        "        l = p1\n",
        "        p1 = p2\n",
        "        p2 = l + (fibNm1/fibN) * (r - l)\n",
        "        fp1 = fp2\n",
        "        fp2 = f(p2, *coef) \n",
        "      else:\n",
        "        r = p2\n",
        "        p2 = p1\n",
        "        p1 = l + (fibNm2/fibN) * (r - l)\n",
        "        fp2 = fp1\n",
        "        fp1 = f(p1, *coef)\n",
        "    p2 = l + (1/2 - max_eps) * (r - l)\n",
        "    if fp1 >= f(p2, *coef):\n",
        "      r = p1\n",
        "    elif fp1 < f(p2, *coef):\n",
        "      l = p2\n",
        "    return (r+l)/2\n",
        "\n",
        "def newton_method(f, df, H, a, b, x0, M, t0, eps1, eps2):\n",
        "    def get_H(x_k):\n",
        "      return np.array([[H[0][0](x_k, a, b), H[0][1](x_k, a, b)], \\\n",
        "                       [H[1][0](x_k, a, b), H[1][1](x_k, a, b)]], dtype='float64')\n",
        "\n",
        "    def get_dk(x_k, grad):\n",
        "      cur_H = get_H(x_k)\n",
        "      if is_pos_def(cur_H):\n",
        "        return [-np.linalg.inv(cur_H) @ grad.T, True]\n",
        "      else:\n",
        "        return [-grad, False]\n",
        "\n",
        "    def calc_tk(x_k, d_k):\n",
        "        def f_wrapped(t, x_k, d_k, a, b):\n",
        "          return f(x_k + t * d_k, a ,b)\n",
        "        return fib_search(f_wrapped, bounds=[0, 0.5], tol=0.001, coef=[x_k, d_k, a, b])\n",
        "\n",
        "    def eps2_check(x_0, x_1, f_vals=None):\n",
        "        if not f_vals:\n",
        "          f_vals = [f(x_0, a, b), f(x_1, a, b)]\n",
        "        return (np.linalg.norm(x_1 - x_0) < eps2 and np.linalg.norm(f_vals[1] - f_vals[0]) < eps2)\n",
        "    H = H\n",
        "    x_prev = x0\n",
        "    f_prev = f(x0, a, b)\n",
        "    t = t0\n",
        "    x_new = x0\n",
        "    i = 0\n",
        "    while (i < M):\n",
        "      grad = np.array([df[0](x_prev, a, b), df[1](x_prev, a, b)])\n",
        "      if (np.linalg.norm(grad) < eps1):\n",
        "        return f_prev\n",
        "      d, flag = get_dk(x_prev, grad)\n",
        "      x_new = x_prev + d if (flag) else x_prev + calc_tk(x_prev, d) * d\n",
        "      f_new = f(x_new, a, b)\n",
        "      flag = eps2_check(x_prev, x_new, [f_new, f_prev])\n",
        "      if (flag and prev_flag):\n",
        "        return f_new\n",
        "      prev_flag = flag\n",
        "      f_prev = f_new\n",
        "      x_prev = x_new\n",
        "      i += 1\n",
        "    return f(x_new, a, b)"
      ],
      "execution_count": null,
      "outputs": []
    },
    {
      "cell_type": "code",
      "metadata": {
        "id": "9VEuS_kdHj4l"
      },
      "source": [
        "a,b = map(float,input().split(\" \"))\n",
        "f = f\n",
        "df = [df_1,df_2]\n",
        "H = [[df_1_1,df_1_2],[df_2_1,df_2_2]]\n",
        "eps1,eps2 = map(float,input().split(\" \"))\n",
        "x1,x2 = map(float,input().split(\" \"))\n",
        "x = [x1,x2]\n",
        "print(newton_method(f,df,H,a,b,x,10000,0.5,eps1,eps2))"
      ],
      "execution_count": null,
      "outputs": []
    },
    {
      "cell_type": "code",
      "metadata": {
        "id": "T1QveyDkHvQv"
      },
      "source": [
        "test1 = [(-3, 2, 0.0009, 0.0005, 0.9, 0.4), 6.500000005600159]\n",
        "test2 = [(-1, 3, 0.0001, 0.0008, -0.4, 0.2), 3.5000000000002]"
      ],
      "execution_count": null,
      "outputs": []
    },
    {
      "cell_type": "code",
      "metadata": {
        "colab": {
          "base_uri": "https://localhost:8080/"
        },
        "id": "ouomgzaSHxcE",
        "outputId": "61bb49bc-df7a-4bd1-9ee5-95530ab4349d"
      },
      "source": [
        "run_test_H(newton_method, test1)\n",
        "run_test_H(newton_method, test2)"
      ],
      "execution_count": null,
      "outputs": [
        {
          "output_type": "stream",
          "text": [
            "CALCULATED RES: 6.500000007304516\n",
            "TEST PASSED!\n",
            "CALCULATED RES: 3.5000000000002\n",
            "TEST PASSED!\n"
          ],
          "name": "stdout"
        }
      ]
    },
    {
      "cell_type": "markdown",
      "metadata": {
        "id": "7GhL0yBR3293"
      },
      "source": [
        "# D. BFGS\n",
        "\n",
        "\n",
        "---\n",
        "\n",
        "\n",
        "\\\n",
        "\n",
        "В данной задаче Вам необходимо реализовать метод BFGS для функций двух типов:\n",
        "\n",
        "$f_0(x) = (x_0 - x_1^2)^2 + (a-x_0)^2 + b$\n",
        "$f_1(x) = (x_0 - a)^2 + x_0 x_1 + (x_1-b)^2$\n",
        "\n",
        "\\\n",
        "\n",
        "Максимальная длина шага - 0.5.\n",
        "\n",
        "В тестовом решении, для поиска оптимального длины шага, использовался поиск Фибоначчи. Вы можете использовать другие методы.\n",
        "\n",
        "Критерии остановки:\n",
        "  * Длина градиента в точке меньше $\\epsilon$\n",
        "\n",
        "  * Количество итераций меньше 10000 (гарантируется)\n",
        "\n",
        "\\\n",
        "\n",
        "Можете воспользоваться [шаблоном](https://gist.github.com/evkonovalov/c472cdfcb30c646e3bd1a33bce69293c)\n",
        "\n",
        "$t$ - тип функции (0 или 1)\n",
        "\n",
        "$a, b$ - коэффициенты\n",
        "\n",
        "$\\epsilon_1, \\epsilon_2$ - критерии остановки\n",
        "\n",
        "$x_0, x_1$ - координаты начальной точки\n",
        "\n",
        "\\\n",
        "\n",
        "**Формат вывода:**\n",
        "\n",
        "Значение целевой функции в точке. Проверяется до первого знака после запятой."
      ]
    },
    {
      "cell_type": "code",
      "metadata": {
        "colab": {
          "base_uri": "https://localhost:8080/"
        },
        "id": "H8BhCM9w3n17",
        "outputId": "4cdf1dac-5209-44c5-c5ac-7de8a05b9a5a"
      },
      "source": [
        "import numpy as np\n",
        "\n",
        "def f1(x,a,b):\n",
        "    return (x[0]-x[1]**2)**2 + (a-x[0])**2 + b\n",
        "\n",
        "def f2(x,a,b):\n",
        "    return (x[0] - a)**2 + x[0]*x[1] + (x[1] - b)**2\n",
        "\n",
        "def df1_1(x,a,b):\n",
        "    return -2*(a-2*x[0]+x[1]**2)\n",
        "\n",
        "def df1_2(x,a,b):\n",
        "    return -4*x[1]*(x[0]-x[1]**2)\n",
        "\n",
        "def df2_1(x,a,b):\n",
        "    return -2*a+2*x[0]+x[1]\n",
        "\n",
        "def df2_2(x,a,b):\n",
        "    return -2*b+x[0]+2*x[1]\n",
        "\n",
        "def is_pos_def(x):\n",
        "    return np.all(np.linalg.eigvals(x) > 0)\n",
        "\n",
        "def ft(t,dk,x,f,a,b):\n",
        "    x += t * dk\n",
        "    return f(x,a,b)\n",
        "\n",
        "def fib_search(f, bounds, tol, coef, max_eps = 0.01):\n",
        "    n = 0\n",
        "    fibN = 1\n",
        "    fibNm1 = 0\n",
        "    fibNm2 = 0\n",
        "    l = min(bounds)\n",
        "    r = max(bounds)\n",
        "    interv_l = (r - l) / tol\n",
        "    while fibN < interv_l:\n",
        "      fibNm2 = fibNm1\n",
        "      fibNm1 = fibN\n",
        "      fibN = fibNm1 + fibNm2\n",
        "      n += 1\n",
        "    p1 = l + fibNm2/fibN * (r - l)\n",
        "    p2 = l + fibNm1/fibN * (r - l)\n",
        "    fp1 = f(p1, *coef)\n",
        "    fp2 = f(p2, *coef)\n",
        "    for k in range(1, n-1):\n",
        "      fibN = fibNm1\n",
        "      fibNm1 = fibNm2\n",
        "      fibNm2 = fibN - fibNm1\n",
        "      if (fp1 > fp2):\n",
        "        l = p1\n",
        "        p1 = p2\n",
        "        p2 = l + (fibNm1/fibN) * (r - l)\n",
        "        fp1 = fp2\n",
        "        fp2 = f(p2, *coef) \n",
        "      else:\n",
        "        r = p2\n",
        "        p2 = p1\n",
        "        p1 = l + (fibNm2/fibN) * (r - l)\n",
        "        fp2 = fp1\n",
        "        fp1 = f(p1, *coef)\n",
        "    p2 = l + (1/2 - max_eps) * (r - l)\n",
        "    if fp1 >= f(p2, *coef):\n",
        "      r = p1\n",
        "    elif fp1 < f(p2, *coef):\n",
        "      l = p2\n",
        "    return (r+l)/2\n",
        "\n",
        "\n",
        "def bfgs_method(f,df,a,b, x0, M, t0, eps):\n",
        "    def get_grad(x_k):\n",
        "        return np.array([df[0](x_k, a, b), df[1](x_k, a, b)])\n",
        "    \n",
        "    def calc_tk(x_k, d_k):\n",
        "        def f_wrapped(t, x_k, d_k, a, b):\n",
        "          return f(x_k + t * d_k, a, b)\n",
        "        return fib_search(f_wrapped, bounds=[0, 0.5], tol=0.001, coef=[x_k, d_k, a, b])\n",
        "\n",
        "    def calc_Ck(x_1, x_0, C_prev):\n",
        "        if C_prev is None or x_0 is None:\n",
        "          return np.eye(2)\n",
        "        y_k = get_grad(x_1) - get_grad(x_0)\n",
        "        s_k = x_1 - x_0\n",
        "        rho_k = 1/np.dot(y_k.T, s_k)\n",
        "        C_k = np.matmul(np.matmul((np.eye(2, dtype='float64') - rho_k * np.outer(s_k, y_k.T)), C_prev), (np.eye(2, dtype='float64') - rho_k * np.outer(y_k, s_k.T))) + rho_k * np.outer(s_k, s_k.T)\n",
        "        return C_k\n",
        "    \n",
        "    i = 0\n",
        "    x_prev = None\n",
        "    x_cur = x0\n",
        "    C_prev = None\n",
        "    C = np.eye(2)\n",
        "    while (i < M):\n",
        "      grad = get_grad(x_cur)\n",
        "      if (np.linalg.norm(grad) < eps or np.any(np.isnan(grad))):\n",
        "        return min(f(x_prev, a, b),f(x_cur, a, b))\n",
        "      d = np.matmul(-C,  grad)\n",
        "      t = calc_tk(x_cur, d)\n",
        "      x_prev = x_cur\n",
        "      x_cur = x_cur + t * d\n",
        "      C_prev = C\n",
        "      C = calc_Ck(x_cur, x_prev, C_prev)\n",
        "      i += 1\n",
        "    return f(x_new, a, b)\n",
        "\n",
        "     \n",
        "type = int(input())\n",
        "a,b = map(float,input().split(\" \"))\n",
        "if type == 0:\n",
        "    f = f1\n",
        "    df = [df1_1,df1_2]\n",
        "else:\n",
        "    f = f2\n",
        "    df = [df2_1,df2_2]\n",
        "eps = float(input())\n",
        "x1,x2 = map(float,input().split(\" \"))\n",
        "x = [x1,x2]\n",
        "print(bfgs_method(f,df,a,b,x,10000,0.5,eps))\n"
      ],
      "execution_count": null,
      "outputs": [
        {
          "output_type": "stream",
          "text": [
            "1\n",
            "1 1\n",
            "0.0006\n",
            "1.0 0.9\n",
            "0.6666667348886008\n"
          ],
          "name": "stdout"
        }
      ]
    },
    {
      "cell_type": "code",
      "metadata": {
        "colab": {
          "base_uri": "https://localhost:8080/"
        },
        "id": "0IQJopfE4_LY",
        "outputId": "b6b5325c-90c8-48f2-87fb-98835438a94c"
      },
      "source": [
        "type = int(input())\n",
        "a,b = map(float,input().split(\" \"))\n",
        "if type == 0:\n",
        "    f = f1\n",
        "    df = [df1_1,df1_2]\n",
        "else:\n",
        "    f = f2\n",
        "    df = [df2_1,df2_2]\n",
        "eps = float(input())\n",
        "x1,x2 = map(float,input().split(\" \"))\n",
        "x = [x1,x2]\n",
        "print(bfgs_method(f,df,a,b,x,10000,0.5,eps))"
      ],
      "execution_count": null,
      "outputs": [
        {
          "output_type": "stream",
          "text": [
            "1\n",
            "1 1\n",
            "0.0006\n",
            "1.0 0.9\n",
            "0.666666685362031\n"
          ],
          "name": "stdout"
        }
      ]
    }
  ]
}